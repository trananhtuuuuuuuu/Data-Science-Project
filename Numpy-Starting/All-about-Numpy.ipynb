{
 "cells": [
  {
   "cell_type": "markdown",
   "id": "d44fc5cf",
   "metadata": {},
   "source": [
    "# Arrays\n",
    "# Indexing\n",
    "# Operations"
   ]
  }
 ],
 "metadata": {
  "language_info": {
   "name": "python"
  }
 },
 "nbformat": 4,
 "nbformat_minor": 5
}
