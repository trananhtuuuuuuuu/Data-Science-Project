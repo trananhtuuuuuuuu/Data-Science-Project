{
 "cells": [
  {
   "cell_type": "markdown",
   "id": "7bab279b",
   "metadata": {},
   "source": [
    "# Read_CSV\n",
    "# Explore DataFrame\n",
    "# Filtering\n",
    "# Grouping\n",
    "# Sorting\n"
   ]
  }
 ],
 "metadata": {
  "language_info": {
   "name": "python"
  }
 },
 "nbformat": 4,
 "nbformat_minor": 5
}
