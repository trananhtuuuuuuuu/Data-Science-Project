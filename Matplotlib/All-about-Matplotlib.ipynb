{
 "cells": [
  {
   "cell_type": "markdown",
   "id": "4c2ae194",
   "metadata": {},
   "source": [
    "# line plots\n",
    "# scatter plots"
   ]
  }
 ],
 "metadata": {
  "language_info": {
   "name": "python"
  }
 },
 "nbformat": 4,
 "nbformat_minor": 5
}
